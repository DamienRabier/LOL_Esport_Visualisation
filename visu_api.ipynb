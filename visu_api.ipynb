{
 "cells": [
  {
   "cell_type": "code",
   "execution_count": null,
   "id": "ced2006a",
   "metadata": {},
   "outputs": [],
   "source": [
    "from mwrogue.esports_client import EsportsClient\n",
    "import datetime as dt\n",
    "import pandas as pd"
   ]
  },
  {
   "cell_type": "code",
   "execution_count": null,
   "id": "6cdaf4d5",
   "metadata": {},
   "outputs": [],
   "source": [
    "print(\n",
    "        \"SG.Tournament='LEC' \"\n",
    "        \"AND SP.Role='Support' \"\n",
    "        \"AND SG.DateTime_UTC >= '2025-01-10' \"\n",
    "        \"AND SP.WardsPlaced IS NOT NULL \"\n",
    "        \"AND SP.WardsDestroyed IS NOT NULL\"\n",
    "    )"
   ]
  },
  {
   "cell_type": "code",
   "execution_count": 12,
   "id": "652297bc",
   "metadata": {},
   "outputs": [
    {
     "ename": "APIError",
     "evalue": "('internal_api_error_MWException', '[1240c8ef5f2cf1cc3f5004f494d91027] Caught exception of type MWException', None)",
     "output_type": "error",
     "traceback": [
      "\u001b[31m---------------------------------------------------------------------------\u001b[39m",
      "\u001b[31mAPIError\u001b[39m                                  Traceback (most recent call last)",
      "\u001b[36mCell\u001b[39m\u001b[36m \u001b[39m\u001b[32mIn[12]\u001b[39m\u001b[32m, line 3\u001b[39m\n\u001b[32m      1\u001b[39m site = EsportsClient(\u001b[33m\"\u001b[39m\u001b[33mlol\u001b[39m\u001b[33m\"\u001b[39m)\n\u001b[32m----> \u001b[39m\u001b[32m3\u001b[39m response_wards_support_lec_spring = site.cargo_client.query(\n\u001b[32m      4\u001b[39m     tables=\u001b[33m\"\u001b[39m\u001b[33mScoreboardPlayers=SP, ScoreboardGames=SG, Tournaments=T\u001b[39m\u001b[33m\"\u001b[39m,\n\u001b[32m      5\u001b[39m     join_on=\u001b[33m\"\u001b[39m\u001b[33mSP.GameId=SG.GameId, SG.OverviewPage=T.OverviewPage\u001b[39m\u001b[33m\"\u001b[39m,\n\u001b[32m      6\u001b[39m     fields=\u001b[33m\"\u001b[39m\u001b[33mT.Name=Tournament, SP.Player, SP.Role, SP.WardsPlaced, SP.WardsDestroyed, SG.DateTime_UTC\u001b[39m\u001b[33m\"\u001b[39m,\n\u001b[32m      7\u001b[39m     where=(\n\u001b[32m      8\u001b[39m         \u001b[33m\"\u001b[39m\u001b[33mT.League = \u001b[39m\u001b[33m'\u001b[39m\u001b[33mLoL EMEA Championship\u001b[39m\u001b[33m'\u001b[39m\u001b[33m \u001b[39m\u001b[33m\"\u001b[39m\n\u001b[32m      9\u001b[39m         \u001b[33m\"\u001b[39m\u001b[33mAND SP.Role=\u001b[39m\u001b[33m'\u001b[39m\u001b[33mSupport\u001b[39m\u001b[33m'\u001b[39m\u001b[33m \u001b[39m\u001b[33m\"\u001b[39m\n\u001b[32m     10\u001b[39m         \u001b[33m\"\u001b[39m\u001b[33mAND SG.DateTime_UTC >= \u001b[39m\u001b[33m'\u001b[39m\u001b[33m2025-04-28\u001b[39m\u001b[33m'\u001b[39m\u001b[33m \u001b[39m\u001b[33m\"\u001b[39m\n\u001b[32m     11\u001b[39m         \u001b[33m\"\u001b[39m\u001b[33mAND SP.WardsPlaced IS NOT NULL \u001b[39m\u001b[33m\"\u001b[39m\n\u001b[32m     12\u001b[39m         \u001b[33m\"\u001b[39m\u001b[33mAND SP.WardsDestroyed IS NOT NULL\u001b[39m\u001b[33m\"\u001b[39m\n\u001b[32m     13\u001b[39m     ),\n\u001b[32m     14\u001b[39m     limit=\u001b[32m5000\u001b[39m\n\u001b[32m     15\u001b[39m )\n",
      "\u001b[36mFile \u001b[39m\u001b[32mc:\\Users\\damra\\anaconda3\\envs\\projet_lol\\Lib\\site-packages\\mwcleric\\clients\\cargo_client.py:49\u001b[39m, in \u001b[36mCargoClient.query\u001b[39m\u001b[34m(self, tables, fields, where, join_on, group_by, having, order_by, offset, limit, auto_continue)\u001b[39m\n\u001b[32m     47\u001b[39m ret = []\n\u001b[32m     48\u001b[39m \u001b[38;5;28;01mwhile\u001b[39;00m \u001b[38;5;28;01mTrue\u001b[39;00m:\n\u001b[32m---> \u001b[39m\u001b[32m49\u001b[39m     response = \u001b[38;5;28mself\u001b[39m.client.api(\u001b[33m'\u001b[39m\u001b[33mcargoquery\u001b[39m\u001b[33m'\u001b[39m, **data)\n\u001b[32m     50\u001b[39m     \u001b[38;5;28;01mfor\u001b[39;00m item \u001b[38;5;129;01min\u001b[39;00m response[\u001b[33m'\u001b[39m\u001b[33mcargoquery\u001b[39m\u001b[33m'\u001b[39m]:\n\u001b[32m     51\u001b[39m         ret.append(item[\u001b[33m'\u001b[39m\u001b[33mtitle\u001b[39m\u001b[33m'\u001b[39m])\n",
      "\u001b[36mFile \u001b[39m\u001b[32mc:\\Users\\damra\\anaconda3\\envs\\projet_lol\\Lib\\site-packages\\mwclient\\client.py:361\u001b[39m, in \u001b[36mSite.api\u001b[39m\u001b[34m(self, action, http_method, *args, **kwargs)\u001b[39m\n\u001b[32m    359\u001b[39m \u001b[38;5;28;01mif\u001b[39;00m \u001b[38;5;129;01mnot\u001b[39;00m info:\n\u001b[32m    360\u001b[39m     info = {}\n\u001b[32m--> \u001b[39m\u001b[32m361\u001b[39m \u001b[38;5;28;01mif\u001b[39;00m \u001b[38;5;28mself\u001b[39m.handle_api_result(info, sleeper=sleeper):\n\u001b[32m    362\u001b[39m     \u001b[38;5;28;01mreturn\u001b[39;00m info\n",
      "\u001b[36mFile \u001b[39m\u001b[32mc:\\Users\\damra\\anaconda3\\envs\\projet_lol\\Lib\\site-packages\\mwclient\\client.py:420\u001b[39m, in \u001b[36mSite.handle_api_result\u001b[39m\u001b[34m(self, info, kwargs, sleeper)\u001b[39m\n\u001b[32m    417\u001b[39m     \u001b[38;5;28;01mif\u001b[39;00m \u001b[33m'\u001b[39m\u001b[33m*\u001b[39m\u001b[33m'\u001b[39m \u001b[38;5;129;01min\u001b[39;00m info[\u001b[33m'\u001b[39m\u001b[33merror\u001b[39m\u001b[33m'\u001b[39m]:\n\u001b[32m    418\u001b[39m         \u001b[38;5;28;01mraise\u001b[39;00m errors.APIError(info[\u001b[33m'\u001b[39m\u001b[33merror\u001b[39m\u001b[33m'\u001b[39m][\u001b[33m'\u001b[39m\u001b[33mcode\u001b[39m\u001b[33m'\u001b[39m],\n\u001b[32m    419\u001b[39m                               info[\u001b[33m'\u001b[39m\u001b[33merror\u001b[39m\u001b[33m'\u001b[39m][\u001b[33m'\u001b[39m\u001b[33minfo\u001b[39m\u001b[33m'\u001b[39m], info[\u001b[33m'\u001b[39m\u001b[33merror\u001b[39m\u001b[33m'\u001b[39m][\u001b[33m'\u001b[39m\u001b[33m*\u001b[39m\u001b[33m'\u001b[39m])\n\u001b[32m--> \u001b[39m\u001b[32m420\u001b[39m     \u001b[38;5;28;01mraise\u001b[39;00m errors.APIError(info[\u001b[33m'\u001b[39m\u001b[33merror\u001b[39m\u001b[33m'\u001b[39m][\u001b[33m'\u001b[39m\u001b[33mcode\u001b[39m\u001b[33m'\u001b[39m],\n\u001b[32m    421\u001b[39m                           info[\u001b[33m'\u001b[39m\u001b[33merror\u001b[39m\u001b[33m'\u001b[39m][\u001b[33m'\u001b[39m\u001b[33minfo\u001b[39m\u001b[33m'\u001b[39m], kwargs)\n\u001b[32m    422\u001b[39m \u001b[38;5;28;01mreturn\u001b[39;00m \u001b[38;5;28;01mTrue\u001b[39;00m\n",
      "\u001b[31mAPIError\u001b[39m: ('internal_api_error_MWException', '[1240c8ef5f2cf1cc3f5004f494d91027] Caught exception of type MWException', None)"
     ]
    }
   ],
   "source": [
    "site = EsportsClient(\"lol\")\n",
    "\n",
    "response_wards_support_lec_spring = site.cargo_client.query(\n",
    "    tables=\"ScoreboardPlayers=SP, ScoreboardGames=SG, Tournaments=T\",\n",
    "    join_on=\"SP.GameId=SG.GameId, SG.OverviewPage=T.OverviewPage\",\n",
    "    fields=\"T.Name=Tournament, SP.Player, SP.Role, SP.WardsPlaced, SP.WardsDestroyed, SG.DateTime_UTC\",\n",
    "    where=(\n",
    "        \"T.League = 'LoL EMEA Championship' \"\n",
    "        \"AND SP.Role='Support' \"\n",
    "        \"AND SG.DateTime_UTC >= '2025-04-28' \"\n",
    "        \"AND SP.WardsPlaced IS NOT NULL \"\n",
    "        \"AND SP.WardsDestroyed IS NOT NULL\"\n",
    "    ),\n",
    "    limit=5000\n",
    ")"
   ]
  }
 ],
 "metadata": {
  "kernelspec": {
   "display_name": "projet_lol",
   "language": "python",
   "name": "python3"
  },
  "language_info": {
   "codemirror_mode": {
    "name": "ipython",
    "version": 3
   },
   "file_extension": ".py",
   "mimetype": "text/x-python",
   "name": "python",
   "nbconvert_exporter": "python",
   "pygments_lexer": "ipython3",
   "version": "3.12.9"
  }
 },
 "nbformat": 4,
 "nbformat_minor": 5
}
