{
 "cells": [
  {
   "cell_type": "code",
   "execution_count": null,
   "id": "a48a1ba4",
   "metadata": {},
   "outputs": [],
   "source": [
    "from mwrogue.esports_client import EsportsClient\n",
    "import pandas as pd\n",
    "import ast"
   ]
  },
  {
   "cell_type": "code",
   "execution_count": null,
   "id": "44992084",
   "metadata": {},
   "outputs": [],
   "source": [
    "def get_scoreboard_games():\n",
    "    site = EsportsClient(\"lol\")\n",
    "    response = site.cargo_client.query(\n",
    "        tables=\"ScoreboardGames=SG\",\n",
    "        fields=\"SG.OverviewPage, SG.Tournament, SG.Team1, SG.Team2, SG.WinTeam, SG.LossTeam, \" +\n",
    "        \"SG.DateTime_UTC, SG.DST, SG.Team1Score, SG.Team2Score, \" +\n",
    "        \"SG.Winner, SG.Gamelength, SG.Gamelength_Number, \" +\n",
    "        \"SG.Team1Bans, SG.Team2Bans, \" +\n",
    "        \"SG.Team1Picks, SG.Team2Picks, \" +\n",
    "        \"SG.Team1Players, SG.Team2Players, \" +\n",
    "        \"SG.Team1Dragons, SG.Team2Dragons, \" +\n",
    "        \"SG.Team1Barons, SG.Team2Barons, \" +\n",
    "        \"SG.Team1Towers, SG.Team2Towers, \" +\n",
    "        \"SG.Team1Gold, SG.Team2Gold, \" +\n",
    "        \"SG.Team1Kills, SG.Team2Kills, \" +\n",
    "        \"SG.Team1RiftHeralds, SG.Team2RiftHeralds, \" +\n",
    "        \"SG.Team1VoidGrubs, SG.Team2VoidGrubs, \" +\n",
    "        \"SG.Team1Atakhans, SG.Team2Atakhans, \" +\n",
    "        \"SG.Team1Inhibitors, SG.Team2Inhibitors, \" +\n",
    "        \"SG.Patch, SG.LegacyPatch, SG.PatchSort,\" +\n",
    "        \"SG.MatchHistory, \" +\n",
    "        \"SG.VOD, \" +\n",
    "        \"SG.N_Page, \" +\n",
    "        \"SG.N_MatchInTab, \" +\n",
    "        \"SG.N_MatchInPage, \" +\n",
    "        \"SG.N_GameInMatch, \" +\n",
    "        \"SG.Gamename, \" +\n",
    "        \"SG.UniqueLine, \" +\n",
    "        \"SG.GameId, \" +\n",
    "        \"SG.MatchId, \" +\n",
    "        \"SG.RiotPlatformGameId, \" +\n",
    "        \"SG.RiotPlatformId, \" +\n",
    "        \"SG.RiotGameId, \" +\n",
    "        \"SG.RiotHash, \" +\n",
    "        \"SG.RiotVersion\",\n",
    "    )\n",
    "    return pd.DataFrame(response)"
   ]
  },
  {
   "cell_type": "code",
   "execution_count": null,
   "id": "1152b828",
   "metadata": {},
   "outputs": [],
   "source": [
    "def get_scoreboard_players():\n",
    "    site = EsportsClient(\"lol\")\n",
    "    response1 = site.cargo_client.query(\n",
    "        tables=\"ScoreboardGames=SG, ScoreboardPlayers=SP, Tournaments=T\",\n",
    "        join_on=\"SG.GameId=SP.GameId, SG.OverviewPage=T.OverviewPage\",\n",
    "        fields = \"SP.OverviewPage, SP.Name, SP.Link, SP.Champion, \" +\n",
    "        \"SP.Kills, SP.Deaths, SP.Assists, SP.SummonerSpells, \" +\n",
    "        \"SP.Gold, SP.CS, SP.DamageToChampions, SP.VisionScore, \" +\n",
    "        \"SP.Items, SP.Trinket, SP.KeystoneMastery, SP.KeystoneRune, \" +\n",
    "        \"SP.PrimaryTree, SP.SecondaryTree, SP.Runes, \" +\n",
    "        \"SP.TeamKills, SP.TeamGold, \" +\n",
    "        \"SP.Team, SP.TeamVs, SP.Time, SP.PlayerWin, \" +\n",
    "        \"SP.DateTime_UTC, SP.DST, SP.Tournament, \" +\n",
    "        \"SP.Role, SP.Role_Number, SP.IngameRole, SP.Side, \" +\n",
    "        \"SP.UniqueLine, SP.UniqueLineVs, SP.UniqueRole, SP.UniqueRoleVs, \" +\n",
    "        \"SP.GameId, SP.MatchId, SP.GameTeamId, \" +\n",
    "        \"SP.GameRoleId, SP.GameRoleIdVs, SP.StatsPage\",\n",
    "        where=\"T.Name = 'LEC 2025 Spring'\"\n",
    "    )\n",
    "    df1 = pd.DataFrame(response1)\n",
    "\n",
    "    response2 = site.cargo_client.query(\n",
    "        tables=\"ScoreboardGames=SG, ScoreboardPlayers=SP, Tournaments=T\",\n",
    "        join_on=\"SG.GameId=SP.GameId, SG.OverviewPage=T.OverviewPage\",\n",
    "        fields = \"SP.OverviewPage, SP.Name, SP.Link, SP.Champion, \" +\n",
    "        \"SP.Kills, SP.Deaths, SP.Assists, SP.SummonerSpells, \" +\n",
    "        \"SP.Gold, SP.CS, SP.DamageToChampions, SP.VisionScore, \" +\n",
    "        \"SP.Items, SP.Trinket, SP.KeystoneMastery, SP.KeystoneRune, \" +\n",
    "        \"SP.PrimaryTree, SP.SecondaryTree, SP.Runes, \" +\n",
    "        \"SP.TeamKills, SP.TeamGold, \" +\n",
    "        \"SP.Team, SP.TeamVs, SP.Time, SP.PlayerWin, \" +\n",
    "        \"SP.DateTime_UTC, SP.DST, SP.Tournament, \" +\n",
    "        \"SP.Role, SP.Role_Number, SP.IngameRole, SP.Side, \" +\n",
    "        \"SP.UniqueLine, SP.UniqueLineVs, SP.UniqueRole, SP.UniqueRoleVs, \" +\n",
    "        \"SP.GameId, SP.MatchId, SP.GameTeamId, \" +\n",
    "        \"SP.GameRoleId, SP.GameRoleIdVs, SP.StatsPage\",\n",
    "        where=\"T.Name = 'LEC 2025 Spring Playoffs'\"\n",
    "    )\n",
    "    df2 = pd.DataFrame(response2)\n",
    "\n",
    "    # ajoute les lignes de df2 à df1\n",
    "    df = pd.concat([df1, df2], ignore_index=True)\n",
    "    return df"
   ]
  },
  {
   "cell_type": "code",
   "execution_count": null,
   "id": "a92edfc2",
   "metadata": {},
   "outputs": [],
   "source": [
    "def get_players_images():\n",
    "    site = EsportsClient(\"lol\")\n",
    "    response = site.cargo_client.query(\n",
    "        tables=\"PlayerImages=PI\",\n",
    "        fields=\"PI.FileName, PI.Link, PI.Team, PI.Tournament, ImageType, PI.Caption, PI.IsProfileImage, PI.SortDate\"\n",
    "    )\n",
    "    return pd.DataFrame(response)"
   ]
  },
  {
   "cell_type": "code",
   "execution_count": null,
   "id": "350a5e19",
   "metadata": {},
   "outputs": [],
   "source": [
    "# Fonction de conversion d'une chaîne 'a, b, c' → ['a', 'b', 'c']\n",
    "def string_to_list(x):\n",
    "    if pd.isna(x):\n",
    "        return []\n",
    "    if isinstance(x, list):\n",
    "        return x\n",
    "    return [item.strip() for item in str(x).split(',')]"
   ]
  },
  {
   "cell_type": "code",
   "execution_count": null,
   "id": "7c86b580",
   "metadata": {},
   "outputs": [],
   "source": [
    "df_sg = get_scoreboard_games()"
   ]
  },
  {
   "cell_type": "code",
   "execution_count": null,
   "id": "aef04522",
   "metadata": {},
   "outputs": [],
   "source": [
    "df_sg.rename(columns={\n",
    "    'DateTime UTC': 'DateTime_UTC',\n",
    "    'Gamelength Number': 'Gamelength_Number',\n",
    "    'N Page': 'N_Page',\n",
    "    'N MatchInTab': 'N_MatchInTab',\n",
    "    'N MatchInPage': 'N_MatchInPage',\n",
    "    'N GameInMatch': 'N_GameInMatch',\n",
    "}, inplace=True)"
   ]
  },
  {
   "cell_type": "code",
   "execution_count": null,
   "id": "9ee1ffef",
   "metadata": {},
   "outputs": [],
   "source": [
    "# 2. ✅ Colonnes INTEGER\n",
    "int_cols = [\n",
    "    'Team1Score', 'Team2Score', 'Winner', 'Team1Dragons', 'Team2Dragons',\n",
    "    'Team1Barons', 'Team2Barons', 'Team1Towers', 'Team2Towers',\n",
    "    'Team1Kills', 'Team2Kills', 'Team1RiftHeralds', 'Team2RiftHeralds',\n",
    "    'Team1VoidGrubs', 'Team2VoidGrubs', 'Team1Atakhans', 'Team2Atakhans',\n",
    "    'Team1Inhibitors', 'Team2Inhibitors', 'N_Page', 'N_MatchInTab',\n",
    "    'N_MatchInPage', 'N_GameInMatch', 'RiotVersion'\n",
    "]\n",
    "for col in int_cols:\n",
    "    df_sg[col] = pd.to_numeric(df_sg[col], errors='coerce')\n",
    "\n",
    "# 3. ✅ Colonnes FLOAT\n",
    "float_cols = ['Gamelength_Number', 'Team1Gold', 'Team2Gold']\n",
    "for col in float_cols:\n",
    "    df_sg[col] = pd.to_numeric(df_sg[col], errors='coerce')\n",
    "\n",
    "# 4. ✅ Colonnes TIMESTAMP\n",
    "df_sg['DateTime_UTC'] = pd.to_datetime(df_sg['DateTime_UTC'], errors='coerce')\n",
    "\n",
    "# 5. ✅ Colonnes TEXT[] à convertir en liste\n",
    "text_array_cols = [\n",
    "    'Team1Bans', 'Team2Bans', 'Team1Picks', 'Team2Picks',\n",
    "    'Team1Players', 'Team2Players'\n",
    "]\n",
    "\n",
    "for col in text_array_cols:\n",
    "    df_sg[col] = df_sg[col].apply(string_to_list)"
   ]
  },
  {
   "cell_type": "code",
   "execution_count": null,
   "id": "e933478d",
   "metadata": {},
   "outputs": [],
   "source": [
    "df_sp = get_scoreboard_players()"
   ]
  },
  {
   "cell_type": "code",
   "execution_count": null,
   "id": "5db94ec0",
   "metadata": {},
   "outputs": [],
   "source": [
    "# Renommer les colonnes mal nommées\n",
    "df_sp.rename(columns={\n",
    "    'DateTime UTC': 'DateTime_UTC',\n",
    "    'Role Number': 'Role_Number'\n",
    "}, inplace=True)\n"
   ]
  },
  {
   "cell_type": "code",
   "execution_count": null,
   "id": "0452ad43",
   "metadata": {},
   "outputs": [],
   "source": [
    "#Colonnes de type INTEGER\n",
    "int_cols = [\n",
    "    'Kills', 'Deaths', 'Assists', 'Gold', 'CS', 'DamageToChampions',\n",
    "    'VisionScore', 'TeamKills', 'TeamGold', 'Role_Number', 'Side'\n",
    "]\n",
    "\n",
    "for col in int_cols:\n",
    "    df_sp[col] = pd.to_numeric(df_sp[col], errors='coerce')\n",
    "\n",
    "#Colonnes de type TIMESTAMP\n",
    "timestamp_cols = ['Time', 'DateTime_UTC']\n",
    "for col in timestamp_cols:\n",
    "    df_sp[col] = pd.to_datetime(df_sp[col], errors='coerce')\n",
    "\n",
    "# Colonnes concernées\n",
    "list_cols = ['SummonerSpells', 'Items']\n",
    "\n",
    "# Application de la conversion\n",
    "for col in list_cols:\n",
    "    df_sp[col] = df_sp[col].apply(string_to_list)"
   ]
  },
  {
   "cell_type": "code",
   "execution_count": null,
   "id": "7c9faee9",
   "metadata": {},
   "outputs": [],
   "source": [
    "df_pi = get_players_images()"
   ]
  },
  {
   "cell_type": "code",
   "execution_count": null,
   "id": "7ef2b114",
   "metadata": {},
   "outputs": [],
   "source": [
    "df_pi[\"FileName\"] = df_pi[\"FileName\"].str.replace(\" \", \"_\")"
   ]
  },
  {
   "cell_type": "code",
   "execution_count": null,
   "id": "d54475e9",
   "metadata": {},
   "outputs": [],
   "source": [
    "df_pi['IsProfileImage'] = df_pi['IsProfileImage'].map({'0': True, '1': False})"
   ]
  },
  {
   "cell_type": "code",
   "execution_count": null,
   "id": "4a56f4db",
   "metadata": {},
   "outputs": [],
   "source": [
    "df_pi['SortDate'] = pd.to_datetime(df_pi['SortDate'], errors='coerce').dt.date"
   ]
  },
  {
   "cell_type": "code",
   "execution_count": null,
   "id": "50d2751f",
   "metadata": {},
   "outputs": [],
   "source": [
    "from sqlalchemy import create_engine"
   ]
  },
  {
   "cell_type": "code",
   "execution_count": null,
   "id": "50ab9ac0",
   "metadata": {},
   "outputs": [],
   "source": [
    "# 1. ⚙️ Paramètres de connexion (modifie selon ta configuration)\n",
    "user=\"postgres\"\n",
    "password=\"postgrepc\"\n",
    "host = \"localhost\"\n",
    "port = \"5432\"\n",
    "db=\"postgres\"\n",
    "\n",
    "# 2. 🔌 Connexion à PostgreSQL via SQLAlchemy\n",
    "engine = create_engine(f\"postgresql+psycopg2://{user}:{password}@{host}:{port}/{db}\")\n",
    "\n",
    "# 3. 📦 Chargement de tes DataFrames nettoyés\n",
    "# Exemple : si tu as sauvegardé les DataFrames après nettoyage\n",
    "# df_scoreboard_games = ...\n",
    "# df_scoreboard_players = ...\n",
    "# df_player_images = ...\n",
    "\n",
    "# 4. 💾 Insertion dans la base de données\n",
    "print(\"Insertion en cours...\")\n",
    "\n",
    "df_sg.to_sql(\"ScoreboardGames\", con=engine, if_exists=\"replace\", index=False)\n",
    "print(\"✅ ScoreboardGames inséré.\")\n",
    "\n",
    "df_sp.to_sql(\"ScoreboardPlayers\", con=engine, if_exists=\"replace\", index=False)\n",
    "print(\"✅ ScoreboardPlayers inséré.\")\n",
    "\n",
    "df_pi.to_sql(\"PlayerImages\", con=engine, if_exists=\"replace\", index=False)\n",
    "print(\"✅ PlayerImages inséré.\")"
   ]
  },
  {
   "cell_type": "code",
   "execution_count": null,
   "id": "1649c4a1",
   "metadata": {},
   "outputs": [],
   "source": [
    "from sqlalchemy import text\n",
    "\n",
    "with engine.connect() as conn:\n",
    "    result = conn.execute(text(\"SELECT COUNT(*) FROM ScoreboardGames\"))\n",
    "    print(\"📊 ScoreboardGames :\", result.fetchone()[0], \"lignes\")\n",
    "\n",
    "    result = conn.execute(text(\"SELECT COUNT(*) FROM ScoreboardPlayers\"))\n",
    "    print(\"📊 ScoreboardPlayers :\", result.fetchone()[0], \"lignes\")\n",
    "\n",
    "    result = conn.execute(text(\"SELECT COUNT(*) FROM PlayerImages\"))\n",
    "    print(\"📊 PlayerImages :\", result.fetchone()[0], \"lignes\")\n",
    "\n",
    "print(\"✅ Insertion terminée avec succès !\")"
   ]
  }
 ],
 "metadata": {
  "kernelspec": {
   "display_name": "projet_lol",
   "language": "python",
   "name": "python3"
  },
  "language_info": {
   "codemirror_mode": {
    "name": "ipython",
    "version": 3
   },
   "file_extension": ".py",
   "mimetype": "text/x-python",
   "name": "python",
   "nbconvert_exporter": "python",
   "pygments_lexer": "ipython3",
   "version": "3.12.9"
  }
 },
 "nbformat": 4,
 "nbformat_minor": 5
}
