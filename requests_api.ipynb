{
 "cells": [
  {
   "cell_type": "code",
   "execution_count": 1,
   "id": "9ef2bf40",
   "metadata": {},
   "outputs": [],
   "source": [
    "from mwrogue.esports_client import EsportsClient\n",
    "import datetime as dt"
   ]
  },
  {
   "cell_type": "code",
   "execution_count": 2,
   "id": "50d33b7a",
   "metadata": {},
   "outputs": [],
   "source": [
    "date = \"2025-04-28\"\n",
    "date = dt.datetime.strptime(date, \"%Y-%m-%d\").date()\n",
    "\n",
    "site = EsportsClient(\"lol\")\n",
    "response = site.cargo_client.query(\n",
    "    tables=\"ScoreboardGames=SG, ScoreboardPlayers=SP, Tournaments=T\",\n",
    "    join_on=\"SG.GameId=SP.GameId, SG.OverviewPage=T.OverviewPage\",\n",
    "    fields=\"T.Name=Tournament, SG.DateTime_UTC, SG.Team1, SG.Team2, SG.Winner, SG.Patch, SP.Link, SP.Team, SP.Champion, SP.SummonerSpells, SP.KeystoneMastery, SP.KeystoneRune, SP.Role, SP.GameId, SP.Side\",\n",
    "    where=\"SG.DateTime_UTC >= '\" + str(date) + \" 00:00:00' AND SG.DateTime_UTC <= '\" + str(date+dt.timedelta(1)) + \" 00:00:00' AND T..League = 'LoL EMEA Championship'\"\n",
    ")"
   ]
  },
  {
   "cell_type": "code",
   "execution_count": 4,
   "id": "52aa2d29",
   "metadata": {},
   "outputs": [
    {
     "name": "stdout",
     "output_type": "stream",
     "text": [
      "JNX  :  Gwen\n"
     ]
    }
   ],
   "source": [
    "print(response[1][\"Link\"], \" : \", response[1][\"Champion\"])"
   ]
  }
 ],
 "metadata": {
  "kernelspec": {
   "display_name": "projet_lol",
   "language": "python",
   "name": "python3"
  },
  "language_info": {
   "codemirror_mode": {
    "name": "ipython",
    "version": 3
   },
   "file_extension": ".py",
   "mimetype": "text/x-python",
   "name": "python",
   "nbconvert_exporter": "python",
   "pygments_lexer": "ipython3",
   "version": "3.12.9"
  }
 },
 "nbformat": 4,
 "nbformat_minor": 5
}
